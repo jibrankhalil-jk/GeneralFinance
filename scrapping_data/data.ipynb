{
 "cells": [
  {
   "cell_type": "code",
   "execution_count": 9,
   "metadata": {},
   "outputs": [],
   "source": [
    "import requests\n",
    "import pandas as pd\n",
    "import bs4 as bs"
   ]
  },
  {
   "cell_type": "code",
   "execution_count": 10,
   "metadata": {},
   "outputs": [],
   "source": [
    "url = 'https://eusc.uscpak.com/uscproducts/page/'\n",
    "url_c = lambda x : 'https://eusc.uscpak.com/uscproducts/page/' + str(x)\n",
    "\n",
    "Products = []"
   ]
  },
  {
   "cell_type": "code",
   "execution_count": 11,
   "metadata": {},
   "outputs": [],
   "source": [
    "for i in range(1, 137):\n",
    "    raw = requests.get(url_c(i))\n",
    "    soup = bs.BeautifulSoup(raw.content, 'html.parser')\n",
    "    table = soup.find('table')\n",
    "    for items in table.tbody.find_all('tr'):\n",
    "        data = items.find_all('td')\n",
    "        Products.append({'Product Name': data[0].text, 'Category': data[1].text, 'Sale Price': data[2].text})"
   ]
  },
  {
   "cell_type": "code",
   "execution_count": 12,
   "metadata": {},
   "outputs": [],
   "source": [
    "df =pd.DataFrame(Products)"
   ]
  },
  {
   "cell_type": "code",
   "execution_count": null,
   "metadata": {},
   "outputs": [
    {
     "data": {
      "text/html": [
       "<div>\n",
       "<style scoped>\n",
       "    .dataframe tbody tr th:only-of-type {\n",
       "        vertical-align: middle;\n",
       "    }\n",
       "\n",
       "    .dataframe tbody tr th {\n",
       "        vertical-align: top;\n",
       "    }\n",
       "\n",
       "    .dataframe thead th {\n",
       "        text-align: right;\n",
       "    }\n",
       "</style>\n",
       "<table border=\"1\" class=\"dataframe\">\n",
       "  <thead>\n",
       "    <tr style=\"text-align: right;\">\n",
       "      <th></th>\n",
       "      <th>Product Name</th>\n",
       "      <th>Category</th>\n",
       "      <th>Sale Price</th>\n",
       "    </tr>\n",
       "  </thead>\n",
       "  <tbody>\n",
       "    <tr>\n",
       "      <th>0</th>\n",
       "      <td>YOUNG B/B HONEY 200GM POUCh (06)</td>\n",
       "      <td>Honey</td>\n",
       "      <td>355.0</td>\n",
       "    </tr>\n",
       "    <tr>\n",
       "      <th>1</th>\n",
       "      <td>YOUNG B/B HONEY 400GM POUCH (06)</td>\n",
       "      <td>Honey</td>\n",
       "      <td>620.0</td>\n",
       "    </tr>\n",
       "    <tr>\n",
       "      <th>2</th>\n",
       "      <td>Chicken Spread 200Ml (06)</td>\n",
       "      <td>Jams, Jelly, Marmalades, Spreads, Mayonnaise</td>\n",
       "      <td>265.0</td>\n",
       "    </tr>\n",
       "    <tr>\n",
       "      <th>3</th>\n",
       "      <td>Chicken spread 500Ml Sap (06)</td>\n",
       "      <td>Jams, Jelly, Marmalades, Spreads, Mayonnaise</td>\n",
       "      <td>625.0</td>\n",
       "    </tr>\n",
       "    <tr>\n",
       "      <th>4</th>\n",
       "      <td>Young Chkn Sprd 1Kg (06)</td>\n",
       "      <td>Jams, Jelly, Marmalades, Spreads, Mayonnaise</td>\n",
       "      <td>1110.0</td>\n",
       "    </tr>\n",
       "    <tr>\n",
       "      <th>...</th>\n",
       "      <td>...</td>\n",
       "      <td>...</td>\n",
       "      <td>...</td>\n",
       "    </tr>\n",
       "    <tr>\n",
       "      <th>13537</th>\n",
       "      <td>ST Bread Small (LP)(LYH)</td>\n",
       "      <td>Butter/Bread</td>\n",
       "      <td>129.0</td>\n",
       "    </tr>\n",
       "    <tr>\n",
       "      <th>13538</th>\n",
       "      <td>ST Bread Large (LP)(LYH)</td>\n",
       "      <td>Butter/Bread</td>\n",
       "      <td>176.0</td>\n",
       "    </tr>\n",
       "    <tr>\n",
       "      <th>13539</th>\n",
       "      <td>AM Egg Per Pcs (LP)(D.G.K)</td>\n",
       "      <td>Snacks (Biscuits Cake Chips)</td>\n",
       "      <td>34.95</td>\n",
       "    </tr>\n",
       "    <tr>\n",
       "      <th>13540</th>\n",
       "      <td>AM Bread Small (LP)(D.G.K)</td>\n",
       "      <td>Butter/Bread</td>\n",
       "      <td>139.8</td>\n",
       "    </tr>\n",
       "    <tr>\n",
       "      <th>13541</th>\n",
       "      <td>AM Bread Large (LP)(D.G.K)</td>\n",
       "      <td>Butter/Bread</td>\n",
       "      <td>186.4</td>\n",
       "    </tr>\n",
       "  </tbody>\n",
       "</table>\n",
       "<p>13542 rows × 3 columns</p>\n",
       "</div>"
      ],
      "text/plain": [
       "                           Product Name  \\\n",
       "0      YOUNG B/B HONEY 200GM POUCh (06)   \n",
       "1      YOUNG B/B HONEY 400GM POUCH (06)   \n",
       "2             Chicken Spread 200Ml (06)   \n",
       "3         Chicken spread 500Ml Sap (06)   \n",
       "4              Young Chkn Sprd 1Kg (06)   \n",
       "...                                 ...   \n",
       "13537          ST Bread Small (LP)(LYH)   \n",
       "13538          ST Bread Large (LP)(LYH)   \n",
       "13539        AM Egg Per Pcs (LP)(D.G.K)   \n",
       "13540        AM Bread Small (LP)(D.G.K)   \n",
       "13541        AM Bread Large (LP)(D.G.K)   \n",
       "\n",
       "                                           Category Sale Price  \n",
       "0                                             Honey      355.0  \n",
       "1                                             Honey      620.0  \n",
       "2      Jams, Jelly, Marmalades, Spreads, Mayonnaise      265.0  \n",
       "3      Jams, Jelly, Marmalades, Spreads, Mayonnaise      625.0  \n",
       "4      Jams, Jelly, Marmalades, Spreads, Mayonnaise     1110.0  \n",
       "...                                             ...        ...  \n",
       "13537                                  Butter/Bread      129.0  \n",
       "13538                                  Butter/Bread      176.0  \n",
       "13539                  Snacks (Biscuits Cake Chips)      34.95  \n",
       "13540                                  Butter/Bread      139.8  \n",
       "13541                                  Butter/Bread      186.4  \n",
       "\n",
       "[13542 rows x 3 columns]"
      ]
     },
     "execution_count": 13,
     "metadata": {},
     "output_type": "execute_result"
    }
   ],
   "source": []
  },
  {
   "cell_type": "code",
   "execution_count": 14,
   "metadata": {},
   "outputs": [],
   "source": [
    "df.to_csv('Products.csv', index=False)"
   ]
  },
  {
   "cell_type": "code",
   "execution_count": 1,
   "metadata": {},
   "outputs": [
    {
     "ename": "NameError",
     "evalue": "name 'df' is not defined",
     "output_type": "error",
     "traceback": [
      "\u001b[0;31m---------------------------------------------------------------------------\u001b[0m",
      "\u001b[0;31mNameError\u001b[0m                                 Traceback (most recent call last)",
      "Cell \u001b[0;32mIn[1], line 1\u001b[0m\n\u001b[0;32m----> 1\u001b[0m unique_categories \u001b[38;5;241m=\u001b[39m \u001b[43mdf\u001b[49m[\u001b[38;5;124m'\u001b[39m\u001b[38;5;124mCategory\u001b[39m\u001b[38;5;124m'\u001b[39m]\u001b[38;5;241m.\u001b[39munique()\n\u001b[1;32m      2\u001b[0m unique_categories_with_index \u001b[38;5;241m=\u001b[39m []\n\u001b[1;32m      3\u001b[0m \u001b[38;5;28;01mfor\u001b[39;00m index,u \u001b[38;5;129;01min\u001b[39;00m \u001b[38;5;28menumerate\u001b[39m(unique_categories,start\u001b[38;5;241m=\u001b[39m\u001b[38;5;241m1\u001b[39m):\n",
      "\u001b[0;31mNameError\u001b[0m: name 'df' is not defined"
     ]
    }
   ],
   "source": [
    "unique_categories = df['Category'].unique()\n",
    "unique_categories_with_index = []\n",
    "for index,u in enumerate(unique_categories,start=1):\n",
    "    unique_categories_with_index.append({'category': u,'index':index})"
   ]
  },
  {
   "cell_type": "code",
   "execution_count": 2,
   "metadata": {},
   "outputs": [
    {
     "ename": "NameError",
     "evalue": "name 'unique_categories_with_index' is not defined",
     "output_type": "error",
     "traceback": [
      "\u001b[0;31m---------------------------------------------------------------------------\u001b[0m",
      "\u001b[0;31mNameError\u001b[0m                                 Traceback (most recent call last)",
      "Cell \u001b[0;32mIn[2], line 1\u001b[0m\n\u001b[0;32m----> 1\u001b[0m \u001b[38;5;28;01mfor\u001b[39;00m cc \u001b[38;5;129;01min\u001b[39;00m \u001b[43munique_categories_with_index\u001b[49m:\n\u001b[1;32m      2\u001b[0m     \u001b[38;5;28mprint\u001b[39m(cc)\n",
      "\u001b[0;31mNameError\u001b[0m: name 'unique_categories_with_index' is not defined"
     ]
    }
   ],
   "source": [
    "for cc in unique_categories_with_index:\n",
    "    print(cc)\n",
    "    \n",
    "\n"
   ]
  },
  {
   "cell_type": "code",
   "execution_count": 30,
   "metadata": {},
   "outputs": [],
   "source": [
    "df['Category'] = df['Category'].apply(lambda x: [c['index'] for c in unique_categories_with_index if c['category'] == x][0])"
   ]
  },
  {
   "cell_type": "code",
   "execution_count": 56,
   "metadata": {},
   "outputs": [],
   "source": [
    "df['Product Name'] = df['Product Name'].str.lower()"
   ]
  },
  {
   "cell_type": "code",
   "execution_count": null,
   "metadata": {},
   "outputs": [],
   "source": [
    "for i,d in df.iterrows():\n",
    "    (3, 'Orange Juice', 299, 40, '8901234567900', 1),\n",
    "    sale_price = int(float(d['Sale Price']))\n",
    "    print(f'(\"{d['Product Name']}\",{sale_price},10,\"00000000\",1,{d['Category']}),')"
   ]
  }
 ],
 "metadata": {
  "kernelspec": {
   "display_name": "pfai",
   "language": "python",
   "name": "python3"
  },
  "language_info": {
   "codemirror_mode": {
    "name": "ipython",
    "version": 3
   },
   "file_extension": ".py",
   "mimetype": "text/x-python",
   "name": "python",
   "nbconvert_exporter": "python",
   "pygments_lexer": "ipython3",
   "version": "3.12.5"
  }
 },
 "nbformat": 4,
 "nbformat_minor": 2
}
